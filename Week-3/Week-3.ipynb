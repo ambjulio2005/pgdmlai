{
 "cells": [
  {
   "cell_type": "markdown",
   "metadata": {},
   "source": [
    "# Capstone Week 3\n",
    "---"
   ]
  },
  {
   "cell_type": "markdown",
   "metadata": {},
   "source": [
    "# Index\n",
    "- [Capstone Objectives](#Capstone-Objectives)\n",
    "- [Read in Data](#Read-in-Data)\n",
    "    - [Merge 2018 and 2019](#Merge-2018-and-2019)\n",
    "    - [Make advisor dictionary mapper](#Make-advisor-dictionary-mapper)\n",
    "- [Data Cleaning](#Data-Cleaning)\n",
    "    - [Custom Cleaning Functions](#Custom-Cleaning-Functions)\n",
    "    - [Create Cleaning Pipeline](#Create-Cleaning-Pipeline)\n",
    "- [Model building](#Model-building)\n",
    "- [Make predictions](#Make-predictions)\n",
    "- [Model persistance](#Model-persistance)\n",
    "- [Residuals](#Residuals)\n",
    "- [Model Interpretation](#Model-Interpretation)"
   ]
  },
  {
   "cell_type": "markdown",
   "metadata": {},
   "source": [
    "# Capstone Objectives\n",
    "- Assist sales and marketing by improving their targeting\n",
    "- Predict sales for 2019 using the data for 2018"
   ]
  },
  {
   "cell_type": "code",
   "execution_count": 1,
   "metadata": {},
   "outputs": [],
   "source": [
    "import numpy as np\n",
    "import pandas as pd\n",
    "import matplotlib.pyplot as plt\n",
    "\n",
    "from sklearn.model_selection import train_test_split\n",
    "from sklearn.preprocessing import StandardScaler\n",
    "\n",
    "pd.set_option('display.max_columns', 50)"
   ]
  },
  {
   "cell_type": "markdown",
   "metadata": {},
   "source": [
    "[Back to Top](#Index)\n",
    "# Read in Data"
   ]
  },
  {
   "cell_type": "code",
   "execution_count": 3,
   "metadata": {},
   "outputs": [],
   "source": [
    "df18 = pd.read_excel(\"../Transaction Data.xlsx\", sheet_name=\"Transactions18\")\n",
    "df19 = pd.read_excel(\"../Transaction Data.xlsx\", sheet_name=\"Transactions19\")"
   ]
  },
  {
   "cell_type": "markdown",
   "metadata": {},
   "source": [
    "## Merge 2018 and 2019"
   ]
  },
  {
   "cell_type": "code",
   "execution_count": 4,
   "metadata": {},
   "outputs": [
    {
     "name": "stdout",
     "output_type": "stream",
     "text": [
      "(10005, 41)\n"
     ]
    }
   ],
   "source": [
    "df = pd.merge(\n",
    "    df18, \n",
    "    df19, \n",
    "    on='CONTACT_ID',\n",
    "    suffixes=['_2018', '_2019']\n",
    ")\n",
    "print(df.shape)"
   ]
  },
  {
   "cell_type": "code",
   "execution_count": 6,
   "metadata": {},
   "outputs": [
    {
     "data": {
      "text/html": [
       "<div>\n",
       "<style scoped>\n",
       "    .dataframe tbody tr th:only-of-type {\n",
       "        vertical-align: middle;\n",
       "    }\n",
       "\n",
       "    .dataframe tbody tr th {\n",
       "        vertical-align: top;\n",
       "    }\n",
       "\n",
       "    .dataframe thead th {\n",
       "        text-align: right;\n",
       "    }\n",
       "</style>\n",
       "<table border=\"1\" class=\"dataframe\">\n",
       "  <thead>\n",
       "    <tr style=\"text-align: right;\">\n",
       "      <th></th>\n",
       "      <th>CONTACT_ID</th>\n",
       "      <th>no_of_sales_12M_1</th>\n",
       "      <th>no_of_Redemption_12M_1</th>\n",
       "      <th>no_of_sales_12M_10K</th>\n",
       "      <th>no_of_Redemption_12M_10K</th>\n",
       "      <th>no_of_funds_sold_12M_1</th>\n",
       "      <th>no_of_funds_redeemed_12M_1</th>\n",
       "      <th>no_of_fund_sales_12M_10K</th>\n",
       "      <th>no_of_funds_Redemption_12M_10K</th>\n",
       "      <th>no_of_assetclass_sold_12M_1</th>\n",
       "      <th>no_of_assetclass_redeemed_12M_1</th>\n",
       "      <th>no_of_assetclass_sales_12M_10K</th>\n",
       "      <th>no_of_assetclass_Redemption_12M_10K</th>\n",
       "      <th>No_of_fund_curr</th>\n",
       "      <th>No_of_asset_curr</th>\n",
       "      <th>AUM</th>\n",
       "      <th>sales_curr</th>\n",
       "      <th>sales_12M_2018</th>\n",
       "      <th>redemption_curr</th>\n",
       "      <th>redemption_12M</th>\n",
       "      <th>new_Fund_added_12M_2018</th>\n",
       "      <th>aum_AC_EQUITY</th>\n",
       "      <th>aum_AC_FIXED_INCOME_MUNI</th>\n",
       "      <th>aum_AC_FIXED_INCOME_TAXABLE</th>\n",
       "      <th>aum_AC_MONEY</th>\n",
       "      <th>aum_AC_MULTIPLE</th>\n",
       "      <th>aum_AC_PHYSICAL_COMMODITY</th>\n",
       "      <th>aum_AC_REAL_ESTATE</th>\n",
       "      <th>aum_AC_TARGET</th>\n",
       "      <th>aum_P_529</th>\n",
       "      <th>aum_P_ALT</th>\n",
       "      <th>aum_P_CEF</th>\n",
       "      <th>aum_P_ETF</th>\n",
       "      <th>aum_P_MF</th>\n",
       "      <th>aum_P_SMA</th>\n",
       "      <th>aum_P_UCITS</th>\n",
       "      <th>aum_P_UIT</th>\n",
       "      <th>refresh_date_2018</th>\n",
       "      <th>sales_12M_2019</th>\n",
       "      <th>new_Fund_added_12M_2019</th>\n",
       "      <th>refresh_date_2019</th>\n",
       "    </tr>\n",
       "  </thead>\n",
       "  <tbody>\n",
       "    <tr>\n",
       "      <th>0</th>\n",
       "      <td>0047433</td>\n",
       "      <td>21.0</td>\n",
       "      <td>38.0</td>\n",
       "      <td>NaN</td>\n",
       "      <td>1.0</td>\n",
       "      <td>5.0</td>\n",
       "      <td>5.0</td>\n",
       "      <td>NaN</td>\n",
       "      <td>1.0</td>\n",
       "      <td>2.0</td>\n",
       "      <td>2.0</td>\n",
       "      <td>NaN</td>\n",
       "      <td>1.0</td>\n",
       "      <td>8.0</td>\n",
       "      <td>1.0</td>\n",
       "      <td>237480.11</td>\n",
       "      <td>250.0</td>\n",
       "      <td>19682.0</td>\n",
       "      <td>-1496.745</td>\n",
       "      <td>-102496.165</td>\n",
       "      <td>NaN</td>\n",
       "      <td>-47342.32</td>\n",
       "      <td>284737.93</td>\n",
       "      <td>84.5</td>\n",
       "      <td>0.0</td>\n",
       "      <td>0.0</td>\n",
       "      <td>0.0</td>\n",
       "      <td>0.0</td>\n",
       "      <td>0.0</td>\n",
       "      <td>0.0</td>\n",
       "      <td>0.0</td>\n",
       "      <td>0.0</td>\n",
       "      <td>0.0</td>\n",
       "      <td>122866.04</td>\n",
       "      <td>114614.07</td>\n",
       "      <td>0.0</td>\n",
       "      <td>0.0</td>\n",
       "      <td>2018-12-31</td>\n",
       "      <td>18633.105</td>\n",
       "      <td>NaN</td>\n",
       "      <td>2019-12-31</td>\n",
       "    </tr>\n",
       "    <tr>\n",
       "      <th>1</th>\n",
       "      <td>4461312</td>\n",
       "      <td>NaN</td>\n",
       "      <td>NaN</td>\n",
       "      <td>NaN</td>\n",
       "      <td>NaN</td>\n",
       "      <td>NaN</td>\n",
       "      <td>NaN</td>\n",
       "      <td>NaN</td>\n",
       "      <td>NaN</td>\n",
       "      <td>NaN</td>\n",
       "      <td>NaN</td>\n",
       "      <td>NaN</td>\n",
       "      <td>NaN</td>\n",
       "      <td>1.0</td>\n",
       "      <td>1.0</td>\n",
       "      <td>19629.00</td>\n",
       "      <td>NaN</td>\n",
       "      <td>NaN</td>\n",
       "      <td>NaN</td>\n",
       "      <td>NaN</td>\n",
       "      <td>NaN</td>\n",
       "      <td>0.00</td>\n",
       "      <td>19629.00</td>\n",
       "      <td>0.0</td>\n",
       "      <td>0.0</td>\n",
       "      <td>0.0</td>\n",
       "      <td>0.0</td>\n",
       "      <td>0.0</td>\n",
       "      <td>0.0</td>\n",
       "      <td>0.0</td>\n",
       "      <td>0.0</td>\n",
       "      <td>0.0</td>\n",
       "      <td>0.0</td>\n",
       "      <td>19629.00</td>\n",
       "      <td>0.00</td>\n",
       "      <td>0.0</td>\n",
       "      <td>0.0</td>\n",
       "      <td>2018-12-31</td>\n",
       "      <td>NaN</td>\n",
       "      <td>NaN</td>\n",
       "      <td>2019-12-31</td>\n",
       "    </tr>\n",
       "    <tr>\n",
       "      <th>2</th>\n",
       "      <td>4491079</td>\n",
       "      <td>NaN</td>\n",
       "      <td>NaN</td>\n",
       "      <td>NaN</td>\n",
       "      <td>NaN</td>\n",
       "      <td>NaN</td>\n",
       "      <td>NaN</td>\n",
       "      <td>NaN</td>\n",
       "      <td>NaN</td>\n",
       "      <td>NaN</td>\n",
       "      <td>NaN</td>\n",
       "      <td>NaN</td>\n",
       "      <td>NaN</td>\n",
       "      <td>NaN</td>\n",
       "      <td>NaN</td>\n",
       "      <td>1758.70</td>\n",
       "      <td>NaN</td>\n",
       "      <td>NaN</td>\n",
       "      <td>NaN</td>\n",
       "      <td>NaN</td>\n",
       "      <td>NaN</td>\n",
       "      <td>0.00</td>\n",
       "      <td>1758.70</td>\n",
       "      <td>0.0</td>\n",
       "      <td>0.0</td>\n",
       "      <td>0.0</td>\n",
       "      <td>0.0</td>\n",
       "      <td>0.0</td>\n",
       "      <td>0.0</td>\n",
       "      <td>0.0</td>\n",
       "      <td>0.0</td>\n",
       "      <td>0.0</td>\n",
       "      <td>0.0</td>\n",
       "      <td>1758.70</td>\n",
       "      <td>0.00</td>\n",
       "      <td>0.0</td>\n",
       "      <td>0.0</td>\n",
       "      <td>2018-12-31</td>\n",
       "      <td>NaN</td>\n",
       "      <td>NaN</td>\n",
       "      <td>2019-12-31</td>\n",
       "    </tr>\n",
       "    <tr>\n",
       "      <th>3</th>\n",
       "      <td>0107408</td>\n",
       "      <td>20.0</td>\n",
       "      <td>NaN</td>\n",
       "      <td>2.0</td>\n",
       "      <td>NaN</td>\n",
       "      <td>1.0</td>\n",
       "      <td>NaN</td>\n",
       "      <td>1.0</td>\n",
       "      <td>NaN</td>\n",
       "      <td>1.0</td>\n",
       "      <td>NaN</td>\n",
       "      <td>1.0</td>\n",
       "      <td>NaN</td>\n",
       "      <td>1.0</td>\n",
       "      <td>1.0</td>\n",
       "      <td>57943.00</td>\n",
       "      <td>5459.0</td>\n",
       "      <td>52484.0</td>\n",
       "      <td>NaN</td>\n",
       "      <td>NaN</td>\n",
       "      <td>1.0</td>\n",
       "      <td>0.00</td>\n",
       "      <td>0.00</td>\n",
       "      <td>57943.0</td>\n",
       "      <td>0.0</td>\n",
       "      <td>0.0</td>\n",
       "      <td>0.0</td>\n",
       "      <td>0.0</td>\n",
       "      <td>0.0</td>\n",
       "      <td>0.0</td>\n",
       "      <td>0.0</td>\n",
       "      <td>0.0</td>\n",
       "      <td>0.0</td>\n",
       "      <td>57943.00</td>\n",
       "      <td>0.00</td>\n",
       "      <td>0.0</td>\n",
       "      <td>0.0</td>\n",
       "      <td>2018-12-31</td>\n",
       "      <td>93212.000</td>\n",
       "      <td>1.0</td>\n",
       "      <td>2019-12-31</td>\n",
       "    </tr>\n",
       "    <tr>\n",
       "      <th>4</th>\n",
       "      <td>85101140503769936458</td>\n",
       "      <td>NaN</td>\n",
       "      <td>NaN</td>\n",
       "      <td>NaN</td>\n",
       "      <td>NaN</td>\n",
       "      <td>NaN</td>\n",
       "      <td>NaN</td>\n",
       "      <td>NaN</td>\n",
       "      <td>NaN</td>\n",
       "      <td>NaN</td>\n",
       "      <td>NaN</td>\n",
       "      <td>NaN</td>\n",
       "      <td>NaN</td>\n",
       "      <td>NaN</td>\n",
       "      <td>NaN</td>\n",
       "      <td>-8573.59</td>\n",
       "      <td>NaN</td>\n",
       "      <td>NaN</td>\n",
       "      <td>NaN</td>\n",
       "      <td>NaN</td>\n",
       "      <td>NaN</td>\n",
       "      <td>-8573.59</td>\n",
       "      <td>0.00</td>\n",
       "      <td>0.0</td>\n",
       "      <td>0.0</td>\n",
       "      <td>0.0</td>\n",
       "      <td>0.0</td>\n",
       "      <td>0.0</td>\n",
       "      <td>0.0</td>\n",
       "      <td>0.0</td>\n",
       "      <td>0.0</td>\n",
       "      <td>0.0</td>\n",
       "      <td>0.0</td>\n",
       "      <td>-8573.59</td>\n",
       "      <td>0.00</td>\n",
       "      <td>0.0</td>\n",
       "      <td>0.0</td>\n",
       "      <td>2018-12-31</td>\n",
       "      <td>NaN</td>\n",
       "      <td>NaN</td>\n",
       "      <td>2019-12-31</td>\n",
       "    </tr>\n",
       "  </tbody>\n",
       "</table>\n",
       "</div>"
      ],
      "text/plain": [
       "             CONTACT_ID  no_of_sales_12M_1  no_of_Redemption_12M_1  \\\n",
       "0               0047433               21.0                    38.0   \n",
       "1               4461312                NaN                     NaN   \n",
       "2               4491079                NaN                     NaN   \n",
       "3               0107408               20.0                     NaN   \n",
       "4  85101140503769936458                NaN                     NaN   \n",
       "\n",
       "   no_of_sales_12M_10K  no_of_Redemption_12M_10K  no_of_funds_sold_12M_1  \\\n",
       "0                  NaN                       1.0                     5.0   \n",
       "1                  NaN                       NaN                     NaN   \n",
       "2                  NaN                       NaN                     NaN   \n",
       "3                  2.0                       NaN                     1.0   \n",
       "4                  NaN                       NaN                     NaN   \n",
       "\n",
       "   no_of_funds_redeemed_12M_1  no_of_fund_sales_12M_10K  \\\n",
       "0                         5.0                       NaN   \n",
       "1                         NaN                       NaN   \n",
       "2                         NaN                       NaN   \n",
       "3                         NaN                       1.0   \n",
       "4                         NaN                       NaN   \n",
       "\n",
       "   no_of_funds_Redemption_12M_10K  no_of_assetclass_sold_12M_1  \\\n",
       "0                             1.0                          2.0   \n",
       "1                             NaN                          NaN   \n",
       "2                             NaN                          NaN   \n",
       "3                             NaN                          1.0   \n",
       "4                             NaN                          NaN   \n",
       "\n",
       "   no_of_assetclass_redeemed_12M_1  no_of_assetclass_sales_12M_10K  \\\n",
       "0                              2.0                             NaN   \n",
       "1                              NaN                             NaN   \n",
       "2                              NaN                             NaN   \n",
       "3                              NaN                             1.0   \n",
       "4                              NaN                             NaN   \n",
       "\n",
       "   no_of_assetclass_Redemption_12M_10K  No_of_fund_curr  No_of_asset_curr  \\\n",
       "0                                  1.0              8.0               1.0   \n",
       "1                                  NaN              1.0               1.0   \n",
       "2                                  NaN              NaN               NaN   \n",
       "3                                  NaN              1.0               1.0   \n",
       "4                                  NaN              NaN               NaN   \n",
       "\n",
       "         AUM  sales_curr  sales_12M_2018  redemption_curr  redemption_12M  \\\n",
       "0  237480.11       250.0         19682.0        -1496.745     -102496.165   \n",
       "1   19629.00         NaN             NaN              NaN             NaN   \n",
       "2    1758.70         NaN             NaN              NaN             NaN   \n",
       "3   57943.00      5459.0         52484.0              NaN             NaN   \n",
       "4   -8573.59         NaN             NaN              NaN             NaN   \n",
       "\n",
       "   new_Fund_added_12M_2018  aum_AC_EQUITY  aum_AC_FIXED_INCOME_MUNI  \\\n",
       "0                      NaN      -47342.32                 284737.93   \n",
       "1                      NaN           0.00                  19629.00   \n",
       "2                      NaN           0.00                   1758.70   \n",
       "3                      1.0           0.00                      0.00   \n",
       "4                      NaN       -8573.59                      0.00   \n",
       "\n",
       "   aum_AC_FIXED_INCOME_TAXABLE  aum_AC_MONEY  aum_AC_MULTIPLE  \\\n",
       "0                         84.5           0.0              0.0   \n",
       "1                          0.0           0.0              0.0   \n",
       "2                          0.0           0.0              0.0   \n",
       "3                      57943.0           0.0              0.0   \n",
       "4                          0.0           0.0              0.0   \n",
       "\n",
       "   aum_AC_PHYSICAL_COMMODITY  aum_AC_REAL_ESTATE  aum_AC_TARGET  aum_P_529  \\\n",
       "0                        0.0                 0.0            0.0        0.0   \n",
       "1                        0.0                 0.0            0.0        0.0   \n",
       "2                        0.0                 0.0            0.0        0.0   \n",
       "3                        0.0                 0.0            0.0        0.0   \n",
       "4                        0.0                 0.0            0.0        0.0   \n",
       "\n",
       "   aum_P_ALT  aum_P_CEF  aum_P_ETF   aum_P_MF  aum_P_SMA  aum_P_UCITS  \\\n",
       "0        0.0        0.0        0.0  122866.04  114614.07          0.0   \n",
       "1        0.0        0.0        0.0   19629.00       0.00          0.0   \n",
       "2        0.0        0.0        0.0    1758.70       0.00          0.0   \n",
       "3        0.0        0.0        0.0   57943.00       0.00          0.0   \n",
       "4        0.0        0.0        0.0   -8573.59       0.00          0.0   \n",
       "\n",
       "   aum_P_UIT refresh_date_2018  sales_12M_2019  new_Fund_added_12M_2019  \\\n",
       "0        0.0        2018-12-31       18633.105                      NaN   \n",
       "1        0.0        2018-12-31             NaN                      NaN   \n",
       "2        0.0        2018-12-31             NaN                      NaN   \n",
       "3        0.0        2018-12-31       93212.000                      1.0   \n",
       "4        0.0        2018-12-31             NaN                      NaN   \n",
       "\n",
       "  refresh_date_2019  \n",
       "0        2019-12-31  \n",
       "1        2019-12-31  \n",
       "2        2019-12-31  \n",
       "3        2019-12-31  \n",
       "4        2019-12-31  "
      ]
     },
     "execution_count": 6,
     "metadata": {},
     "output_type": "execute_result"
    }
   ],
   "source": [
    "df.head()"
   ]
  },
  {
   "cell_type": "markdown",
   "metadata": {},
   "source": [
    "## Make advisor dictionary mapper"
   ]
  },
  {
   "cell_type": "code",
   "execution_count": 5,
   "metadata": {},
   "outputs": [],
   "source": [
    "adviser_lookup = {idx: contact_id for idx, contact_id in enumerate(df['CONTACT_ID'])}"
   ]
  },
  {
   "cell_type": "code",
   "execution_count": 8,
   "metadata": {},
   "outputs": [
    {
     "data": {
      "text/plain": [
       "'85201142414218755394'"
      ]
     },
     "execution_count": 8,
     "metadata": {},
     "output_type": "execute_result"
    }
   ],
   "source": [
    "adviser_lookup[123]"
   ]
  },
  {
   "cell_type": "markdown",
   "metadata": {},
   "source": [
    "[Back to Top](#Index)\n",
    "# Data Cleaning"
   ]
  },
  {
   "cell_type": "code",
   "execution_count": 9,
   "metadata": {},
   "outputs": [],
   "source": [
    "# make a variable to keep all of the columns we want to drop\n",
    "COLS_TO_DROP = [\n",
    "    'refresh_date_2019', 'refresh_date_2018', 'CONTACT_ID', \n",
    "]\n",
    "\n",
    "COLS_TO_KEEP = [\n",
    "    'no_of_sales_12M_1', 'no_of_Redemption_12M_1', 'no_of_sales_12M_10K',\n",
    "    'no_of_Redemption_12M_10K', 'no_of_funds_sold_12M_1',\n",
    "    'no_of_funds_redeemed_12M_1', 'no_of_fund_sales_12M_10K',\n",
    "    'no_of_funds_Redemption_12M_10K', 'no_of_assetclass_sold_12M_1',\n",
    "    'no_of_assetclass_redeemed_12M_1', 'no_of_assetclass_sales_12M_10K',\n",
    "    'no_of_assetclass_Redemption_12M_10K', 'No_of_fund_curr',\n",
    "    'No_of_asset_curr', 'AUM', 'sales_curr', 'sales_12M_2018',\n",
    "    'redemption_curr', 'redemption_12M', 'new_Fund_added_12M_2018',\n",
    "    'aum_AC_EQUITY', 'aum_AC_FIXED_INCOME_MUNI',\n",
    "    'aum_AC_FIXED_INCOME_TAXABLE', 'aum_AC_MONEY', 'aum_AC_MULTIPLE',\n",
    "    'aum_AC_PHYSICAL_COMMODITY', 'aum_AC_REAL_ESTATE', 'aum_AC_TARGET',\n",
    "    'aum_P_529', 'aum_P_ALT', 'aum_P_CEF', 'aum_P_ETF', 'aum_P_MF',\n",
    "    'aum_P_SMA', 'aum_P_UCITS', 'aum_P_UIT'\n",
    "]"
   ]
  },
  {
   "cell_type": "code",
   "execution_count": 10,
   "metadata": {},
   "outputs": [],
   "source": [
    "X = df.drop(['sales_12M_2019', 'new_Fund_added_12M_2019'], axis=1)\n",
    "y = df['sales_12M_2019']"
   ]
  },
  {
   "cell_type": "code",
   "execution_count": 11,
   "metadata": {},
   "outputs": [],
   "source": [
    "X_train, X_test, y_train, y_test = train_test_split(X, y, test_size=0.25, random_state=24)"
   ]
  },
  {
   "cell_type": "markdown",
   "metadata": {},
   "source": [
    "## Custom Cleaning Functions"
   ]
  },
  {
   "cell_type": "code",
   "execution_count": 25,
   "metadata": {},
   "outputs": [],
   "source": [
    "def extract_columns(df):\n",
    "    '''extract out columns not listed in COLS_TO_DROP variable'''\n",
    "    cols_to_keep = [col for col in df.columns if col not in COLS_TO_DROP]\n",
    "    return df.loc[:, cols_to_keep].copy()\n",
    "\n",
    "\n",
    "def fillna_values(df):\n",
    "    '''fill nan values with zero'''\n",
    "    if isinstance(df, type(pd.Series(dtype='float64'))):\n",
    "        return df.fillna(0)\n",
    "    elif isinstance(df, type(pd.DataFrame())):\n",
    "        num_df = df.select_dtypes(include=['number']).fillna(0)\n",
    "        non_num_df = df.select_dtypes(exclude=['number'])\n",
    "        return pd.concat([num_df, non_num_df], axis=1)\n",
    "    else:\n",
    "        return np.nan_to_num(df)"
   ]
  },
  {
   "cell_type": "code",
   "execution_count": 27,
   "metadata": {},
   "outputs": [],
   "source": [
    "# fillna_values.transform(X_train)"
   ]
  },
  {
   "cell_type": "markdown",
   "metadata": {},
   "source": [
    "[Back to Top](#Index)\n",
    "## Create Cleaning Pipeline"
   ]
  },
  {
   "cell_type": "code",
   "execution_count": 28,
   "metadata": {},
   "outputs": [],
   "source": [
    "from sklearn.pipeline import Pipeline\n",
    "from sklearn.preprocessing import FunctionTransformer"
   ]
  },
  {
   "cell_type": "code",
   "execution_count": 29,
   "metadata": {},
   "outputs": [],
   "source": [
    "extract_columns_trans = FunctionTransformer(extract_columns)\n",
    "fillna_values_trans = FunctionTransformer(fillna_values)"
   ]
  },
  {
   "cell_type": "markdown",
   "metadata": {},
   "source": [
    "Make pipeline for target variable"
   ]
  },
  {
   "cell_type": "code",
   "execution_count": 30,
   "metadata": {},
   "outputs": [],
   "source": [
    "targ_pipe = Pipeline([\n",
    "    ('fillna_values_trans', fillna_values_trans),\n",
    "])"
   ]
  },
  {
   "cell_type": "code",
   "execution_count": 31,
   "metadata": {},
   "outputs": [],
   "source": [
    "y_train = targ_pipe.fit_transform(y_train.values.reshape(-1,1)) # fit and transform TRAINING"
   ]
  },
  {
   "cell_type": "code",
   "execution_count": 35,
   "metadata": {},
   "outputs": [
    {
     "data": {
      "text/plain": [
       "4081       311.240\n",
       "184      15275.180\n",
       "186        494.180\n",
       "230          0.000\n",
       "6327         0.000\n",
       "           ...    \n",
       "6500         0.000\n",
       "5249         0.000\n",
       "3473    125271.540\n",
       "8535       525.755\n",
       "899          0.000\n",
       "Length: 7503, dtype: float64"
      ]
     },
     "execution_count": 35,
     "metadata": {},
     "output_type": "execute_result"
    }
   ],
   "source": [
    "y_train = pd.Series(y_train.flatten(), index=X_train.index)"
   ]
  },
  {
   "cell_type": "code",
   "execution_count": 37,
   "metadata": {},
   "outputs": [],
   "source": [
    "y_test = pd.Series(targ_pipe.transform(y_test.values.reshape(-1,1)).flatten(), index=X_test.index) # transform only TESTING"
   ]
  },
  {
   "cell_type": "code",
   "execution_count": 38,
   "metadata": {},
   "outputs": [
    {
     "data": {
      "text/plain": [
       "2052         0.000\n",
       "2758      5055.190\n",
       "4334         0.000\n",
       "9047    100777.230\n",
       "7001     22500.000\n",
       "           ...    \n",
       "5527         0.000\n",
       "3619         0.000\n",
       "9819    372569.315\n",
       "7303         0.000\n",
       "2840     97081.830\n",
       "Length: 2502, dtype: float64"
      ]
     },
     "execution_count": 38,
     "metadata": {},
     "output_type": "execute_result"
    }
   ],
   "source": [
    "y_test"
   ]
  },
  {
   "cell_type": "markdown",
   "metadata": {},
   "source": [
    "Make pipeline for features"
   ]
  },
  {
   "cell_type": "code",
   "execution_count": null,
   "metadata": {},
   "outputs": [],
   "source": [
    "feat_pipe = Pipeline([\n",
    "    ('extract_columns_trans', extract_columns_trans),\n",
    "    ('fillna_values_trans', fillna_values_trans),\n",
    "    ('StandardScaler', StandardScaler()),\n",
    "])"
   ]
  },
  {
   "cell_type": "code",
   "execution_count": null,
   "metadata": {},
   "outputs": [],
   "source": [
    "train_array = feat_pipe.fit(X_train, y_train).transform(X_train)\n",
    "train_array[:2]"
   ]
  },
  {
   "cell_type": "markdown",
   "metadata": {},
   "source": [
    "Convert the preprocessed numpy array back to pandas dataframe"
   ]
  },
  {
   "cell_type": "code",
   "execution_count": null,
   "metadata": {},
   "outputs": [],
   "source": [
    "X_train_prepared = pd.DataFrame(\n",
    "    feat_pipe.fit(X_train, y_train).transform(X_train),\n",
    "    index=X_train.index,\n",
    "    columns=COLS_TO_KEEP\n",
    ")"
   ]
  },
  {
   "cell_type": "code",
   "execution_count": null,
   "metadata": {},
   "outputs": [],
   "source": [
    "X_train_prepared.head()"
   ]
  },
  {
   "cell_type": "markdown",
   "metadata": {},
   "source": [
    "**TRANSFORM** the test set (Do NOT fit the pipeline on testing!)"
   ]
  },
  {
   "cell_type": "code",
   "execution_count": null,
   "metadata": {},
   "outputs": [],
   "source": [
    "X_test_prepared = pd.DataFrame(\n",
    "    pipe.fit(X_test, y_test).transform(X_test),\n",
    "    index=X_test.index,\n",
    "    columns=COLS_TO_KEEP\n",
    ")"
   ]
  },
  {
   "cell_type": "code",
   "execution_count": null,
   "metadata": {},
   "outputs": [],
   "source": [
    "X_test_prepared.head()"
   ]
  },
  {
   "cell_type": "markdown",
   "metadata": {},
   "source": [
    "[Back to Top](#Index)\n",
    "# Model building"
   ]
  },
  {
   "cell_type": "markdown",
   "metadata": {},
   "source": [
    "Look at 1hr mark in Jacob's 3rd OH session\n",
    "- Grid search CV with multiple models in there (Linear Reg, ElasticNet, RF, XGBoost)\n",
    "- SelectFromModel\n",
    "\n",
    "Look at AML Capstone to see if you have ideas for improving data quality."
   ]
  },
  {
   "cell_type": "code",
   "execution_count": null,
   "metadata": {},
   "outputs": [],
   "source": [
    "from sklearn.linear_model import LinearRegression, Ridge\n",
    "from sklearn.ensemble import RandomForestRegressor\n",
    "from sklearn.model_selection import RandomizedSearchCV\n",
    "from sklearn.feature_selection import SelectFromModel\n",
    "import xgboost as xgb"
   ]
  },
  {
   "cell_type": "code",
   "execution_count": null,
   "metadata": {},
   "outputs": [],
   "source": [
    "feat_pipe = Pipeline([\n",
    "    ('extract_columns_trans', extract_columns_trans),\n",
    "    ('fillna_values_trans', fillna_values_trans),\n",
    "    ('StandardScaler', StandardScaler()),\n",
    "    ('select', SelectFromModel(Ridge(), max_features=10)),\n",
    "    ('forest', RandomForestRegressor()),\n",
    "])"
   ]
  },
  {
   "cell_type": "code",
   "execution_count": null,
   "metadata": {},
   "outputs": [],
   "source": [
    "feat_pipe.fit(X_train, y_train)"
   ]
  },
  {
   "cell_type": "markdown",
   "metadata": {},
   "source": [
    "[Back to Top](#Index)\n",
    "# Make predictions"
   ]
  },
  {
   "cell_type": "code",
   "execution_count": null,
   "metadata": {},
   "outputs": [],
   "source": [
    "from sklearn.model_selection import cross_validate"
   ]
  },
  {
   "cell_type": "code",
   "execution_count": null,
   "metadata": {},
   "outputs": [],
   "source": [
    "cross_validate(feat_pipe, X_train, y_train)"
   ]
  },
  {
   "cell_type": "code",
   "execution_count": null,
   "metadata": {},
   "outputs": [],
   "source": [
    "#  make regression predictions\n",
    "y_train_preds = feat_pipe.predict(X_train_prepared)\n",
    "y_test_preds = feat_pipe.predict(X_test_prepared)"
   ]
  },
  {
   "cell_type": "code",
   "execution_count": null,
   "metadata": {},
   "outputs": [],
   "source": [
    "fig, ax = plt.subplots(1,1,figsize=(10,8))\n",
    "ax.scatter(x=y_train, y=y_train_preds, alpha=0.4)\n",
    "ax.plot([0, 20000000], [0,20000000])\n",
    "ax.set_xlim([0, 20000000])\n",
    "ax.set_ylim([0, 20000000])\n",
    "ax.set_title(\"Actual vs Predicted - Regression\")\n",
    "ax.set_xlabel(\"Actual\")\n",
    "ax.set_ylabel(\"Predicted\");"
   ]
  },
  {
   "cell_type": "code",
   "execution_count": null,
   "metadata": {},
   "outputs": [],
   "source": [
    "fig, ax = plt.subplots(1,1,figsize=(10,8))\n",
    "ax.scatter(x=y_test, y=y_test_preds, alpha=0.4)\n",
    "ax.plot([0, 20000000], [0,20000000])\n",
    "ax.set_xlim([0, 20000000])\n",
    "ax.set_ylim([0, 20000000])\n",
    "ax.set_title(\"Actual vs Predicted - Regression\")\n",
    "ax.set_xlabel(\"Actual\")\n",
    "ax.set_ylabel(\"Predicted\");"
   ]
  },
  {
   "cell_type": "code",
   "execution_count": null,
   "metadata": {},
   "outputs": [],
   "source": [
    "fig, ax = plt.subplots(1,1,figsize=(6,4))\n",
    "y_train.hist(bins=30, ax=ax);"
   ]
  },
  {
   "cell_type": "markdown",
   "metadata": {},
   "source": [
    "[Back to Top](#Index)\n",
    "# Model persistance"
   ]
  },
  {
   "cell_type": "code",
   "execution_count": null,
   "metadata": {},
   "outputs": [],
   "source": []
  },
  {
   "cell_type": "markdown",
   "metadata": {},
   "source": [
    "[Back to Top](#Index)\n",
    "# Residuals"
   ]
  },
  {
   "cell_type": "code",
   "execution_count": null,
   "metadata": {},
   "outputs": [],
   "source": [
    "# get residuals\n",
    "residuals = y_test_preds - y_test"
   ]
  },
  {
   "cell_type": "code",
   "execution_count": null,
   "metadata": {},
   "outputs": [],
   "source": [
    "# plot predictions vs residuals\n",
    "fig, axes = plt.subplots(2,2,figsize=(14,10))\n",
    "\n",
    "# plot scatter on upper right plot\n",
    "axes[0,0].scatter(x=y_test_preds, y=residuals, alpha=0.5)\n",
    "axes[0,0].set(xlabel=\"Residuals\",ylabel=\"Predictions\");\n",
    "\n",
    "# plot hist on upper left plot\n",
    "axes[0,1].hist(residuals, bins=50)\n",
    "axes[0,1].set(xlabel='Residuals', ylabel='Frequency');"
   ]
  },
  {
   "cell_type": "code",
   "execution_count": null,
   "metadata": {},
   "outputs": [],
   "source": [
    "from statsmodels.api import qqplot"
   ]
  },
  {
   "cell_type": "code",
   "execution_count": null,
   "metadata": {},
   "outputs": [],
   "source": [
    "axes[1,0].set_ylim([-3.5, 3.5])\n",
    "axes[1,0].set_xlim([-3.5, 3.5])"
   ]
  },
  {
   "cell_type": "code",
   "execution_count": null,
   "metadata": {},
   "outputs": [],
   "source": [
    "qqplot(residuals, fit=True, line='r', ax=axes[1,0])"
   ]
  },
  {
   "cell_type": "markdown",
   "metadata": {},
   "source": [
    "[Back to Top](#Index)\n",
    "# Model Interpretation"
   ]
  },
  {
   "cell_type": "code",
   "execution_count": null,
   "metadata": {},
   "outputs": [],
   "source": []
  },
  {
   "cell_type": "code",
   "execution_count": null,
   "metadata": {},
   "outputs": [],
   "source": []
  },
  {
   "cell_type": "code",
   "execution_count": null,
   "metadata": {},
   "outputs": [],
   "source": []
  },
  {
   "cell_type": "code",
   "execution_count": null,
   "metadata": {},
   "outputs": [],
   "source": []
  },
  {
   "cell_type": "code",
   "execution_count": null,
   "metadata": {},
   "outputs": [],
   "source": []
  },
  {
   "cell_type": "code",
   "execution_count": null,
   "metadata": {},
   "outputs": [],
   "source": []
  },
  {
   "cell_type": "markdown",
   "metadata": {},
   "source": [
    "# Scratch Work"
   ]
  },
  {
   "cell_type": "code",
   "execution_count": null,
   "metadata": {},
   "outputs": [],
   "source": [
    "param_grid = {\n",
    "    'select__estimator': [Ridge(), RandomForestRegressor(), xgb.XGBRegressor()],\n",
    "    'select__max_features': [2, 5, 7, 9, 11, 13],\n",
    "    'forest__n_estimators': [25, 50, 75, 100, 150, 200],\n",
    "    'forest__max_features': ['sqrt', 'log2'],\n",
    "}"
   ]
  },
  {
   "cell_type": "code",
   "execution_count": null,
   "metadata": {},
   "outputs": [],
   "source": [
    "rs = RandomizedSearchCV(\n",
    "    feat_pipe, \n",
    "    param_distributions=param_grid,\n",
    "    cv=3,\n",
    "    verbose=2\n",
    ")"
   ]
  },
  {
   "cell_type": "code",
   "execution_count": null,
   "metadata": {},
   "outputs": [],
   "source": [
    "rs.fit(feat_pipe, X_train, y_train)"
   ]
  },
  {
   "cell_type": "code",
   "execution_count": null,
   "metadata": {},
   "outputs": [],
   "source": []
  },
  {
   "cell_type": "code",
   "execution_count": null,
   "metadata": {},
   "outputs": [],
   "source": []
  },
  {
   "cell_type": "code",
   "execution_count": null,
   "metadata": {},
   "outputs": [],
   "source": []
  },
  {
   "cell_type": "code",
   "execution_count": null,
   "metadata": {},
   "outputs": [],
   "source": []
  },
  {
   "cell_type": "code",
   "execution_count": null,
   "metadata": {},
   "outputs": [],
   "source": []
  },
  {
   "cell_type": "code",
   "execution_count": null,
   "metadata": {},
   "outputs": [],
   "source": []
  }
 ],
 "metadata": {
  "kernelspec": {
   "display_name": "Python 3",
   "language": "python",
   "name": "python3"
  },
  "language_info": {
   "codemirror_mode": {
    "name": "ipython",
    "version": 3
   },
   "file_extension": ".py",
   "mimetype": "text/x-python",
   "name": "python",
   "nbconvert_exporter": "python",
   "pygments_lexer": "ipython3",
   "version": "3.8.5"
  }
 },
 "nbformat": 4,
 "nbformat_minor": 4
}
